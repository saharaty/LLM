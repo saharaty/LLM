{
  "nbformat": 4,
  "nbformat_minor": 0,
  "metadata": {
    "colab": {
      "provenance": [],
      "authorship_tag": "ABX9TyOdvbGgQYZ1uI3OJINoWhQy",
      "include_colab_link": true
    },
    "kernelspec": {
      "name": "python3",
      "display_name": "Python 3"
    },
    "language_info": {
      "name": "python"
    }
  },
  "cells": [
    {
      "cell_type": "markdown",
      "metadata": {
        "id": "view-in-github",
        "colab_type": "text"
      },
      "source": [
        "<a href=\"https://colab.research.google.com/github/saharaty/LLM/blob/main/sampleLLM.ipynb\" target=\"_parent\"><img src=\"https://colab.research.google.com/assets/colab-badge.svg\" alt=\"Open In Colab\"/></a>"
      ]
    },
    {
      "cell_type": "markdown",
      "source": [
        "##Installment"
      ],
      "metadata": {
        "id": "ouZYK0jLRwcl"
      }
    },
    {
      "cell_type": "code",
      "execution_count": null,
      "metadata": {
        "colab": {
          "base_uri": "https://localhost:8080/"
        },
        "id": "ns6rhSkWRFWE",
        "outputId": "709bb13a-532e-45f6-96c8-35ff2b8d9129"
      },
      "outputs": [
        {
          "output_type": "stream",
          "name": "stdout",
          "text": [
            "Requirement already satisfied: torch in /usr/local/lib/python3.10/dist-packages (2.4.0+cu121)\n",
            "Requirement already satisfied: filelock in /usr/local/lib/python3.10/dist-packages (from torch) (3.15.4)\n",
            "Requirement already satisfied: typing-extensions>=4.8.0 in /usr/local/lib/python3.10/dist-packages (from torch) (4.12.2)\n",
            "Requirement already satisfied: sympy in /usr/local/lib/python3.10/dist-packages (from torch) (1.13.2)\n",
            "Requirement already satisfied: networkx in /usr/local/lib/python3.10/dist-packages (from torch) (3.3)\n",
            "Requirement already satisfied: jinja2 in /usr/local/lib/python3.10/dist-packages (from torch) (3.1.4)\n",
            "Requirement already satisfied: fsspec in /usr/local/lib/python3.10/dist-packages (from torch) (2024.6.1)\n",
            "Requirement already satisfied: MarkupSafe>=2.0 in /usr/local/lib/python3.10/dist-packages (from jinja2->torch) (2.1.5)\n",
            "Requirement already satisfied: mpmath<1.4,>=1.1.0 in /usr/local/lib/python3.10/dist-packages (from sympy->torch) (1.3.0)\n"
          ]
        }
      ],
      "source": [
        "!pip install torch"
      ]
    },
    {
      "cell_type": "markdown",
      "source": [
        "##Code"
      ],
      "metadata": {
        "id": "n6FeccdPWk_k"
      }
    },
    {
      "cell_type": "code",
      "source": [
        "import time\n",
        "import numpy as np\n",
        "import torch.nn as nn\n",
        "from torch.nn import functional as F\n",
        "import torch\n",
        "device = 'cuda' if torch.cuda.is_available() else 'cpu'\n",
        "print(device)"
      ],
      "metadata": {
        "id": "Yj6q_77LYf8A",
        "colab": {
          "base_uri": "https://localhost:8080/"
        },
        "outputId": "a0943227-1b9e-4bd7-c651-dfcceaf0d552"
      },
      "execution_count": null,
      "outputs": [
        {
          "output_type": "stream",
          "name": "stdout",
          "text": [
            "cpu\n"
          ]
        }
      ]
    },
    {
      "cell_type": "code",
      "source": [
        "block_size = 8 #size of the integers\n",
        "batch_size = 4 #number ofprocessing sequences in parallel\n",
        "max_iters = 1000\n",
        "eval_interval = 500 #interval for model evaluation\n",
        "learning_rate = 3e-4\n",
        "eval_iters = 250\n",
        "#dropout = 0.2 #to dropout random neurons to not to overfit"
      ],
      "metadata": {
        "id": "7aCpA9bhr7d-"
      },
      "execution_count": null,
      "outputs": []
    },
    {
      "cell_type": "code",
      "source": [
        "#load the dataset\n",
        "with open('wizard_of_oz.txt', 'r', encoding='utf-8') as f:\n",
        "  text = f.read()\n",
        "chars = sorted(set(text))\n",
        "print(chars)\n",
        "vocab_size = len(chars)"
      ],
      "metadata": {
        "colab": {
          "base_uri": "https://localhost:8080/"
        },
        "id": "XJ67UCVasPyf",
        "outputId": "f940a9fe-95df-47f3-ca34-a825d38eb7d5"
      },
      "execution_count": null,
      "outputs": [
        {
          "output_type": "stream",
          "name": "stdout",
          "text": [
            "['\\n', ' ', '!', '\"', '&', \"'\", '(', ')', '*', ',', '-', '.', '0', '1', '2', '3', '4', '5', '6', '7', '8', '9', ':', ';', '?', 'A', 'B', 'C', 'D', 'E', 'F', 'G', 'H', 'I', 'J', 'K', 'L', 'M', 'N', 'O', 'P', 'Q', 'R', 'S', 'T', 'U', 'V', 'W', 'X', 'Y', 'Z', '[', ']', '_', 'a', 'b', 'c', 'd', 'e', 'f', 'g', 'h', 'i', 'j', 'k', 'l', 'm', 'n', 'o', 'p', 'q', 'r', 's', 't', 'u', 'v', 'w', 'x', 'y', 'z', '\\ufeff']\n"
          ]
        }
      ]
    },
    {
      "cell_type": "code",
      "source": [
        "#map characters and integers\n",
        "string_to_int = { ch:i for i,ch in enumerate(chars) }\n",
        "int_to_string = { i:ch for i,ch in enumerate(chars) }\n",
        "encode = lambda s: [string_to_int[c] for c in s]\n",
        "decode = lambda l: ''.join([int_to_string[i] for i in l])\n",
        "\n",
        "#convert the encoded text to a tensor\n",
        "data = torch.tensor(encode(text), dtype=torch.long)"
      ],
      "metadata": {
        "id": "xarFFMYMusw2"
      },
      "execution_count": null,
      "outputs": []
    },
    {
      "cell_type": "code",
      "source": [
        "#making training and validation sets\n",
        "n = int(0.8 * len(data))\n",
        "trian_set = data[:n]\n",
        "val_set = data[n:]\n",
        "\n",
        "#generate batches\n",
        "def get_batch(split):\n",
        "  data = trian_set if split == 'train' else val_set\n",
        "  #choose random starting indices\n",
        "  ix = torch.randint(len(data) - block_size, (batch_size,))\n",
        "\n",
        "  x = torch.stack([data[i:i+block_size] for i in ix]) #input sequence\n",
        "  y = torch.stack([data[i+1:i+block_size+1] for i in ix]) #target sequence\n",
        "  x, y = x.to(device), y.to(device) #move data to appropriate device\n",
        "  return x, y\n",
        "\n",
        "x, y = get_batch(\"train\")\n"
      ],
      "metadata": {
        "id": "xtTJw8Z6A4PD"
      },
      "execution_count": null,
      "outputs": []
    },
    {
      "cell_type": "code",
      "source": [
        "#estimate loss on training and validaion sets\n",
        "@torch.no_grad() #use this to not to use gradient on validation set, for better performance\n",
        "def estimate_loss():\n",
        "  out = {}\n",
        "  model.eval()\n",
        "  for split in ['train', 'val']:\n",
        "    losses = torch.zeros(eval_iters)\n",
        "    for k in range(eval_iters):\n",
        "      X, Y = get_batch(split)\n",
        "      logits, loss = model(X, Y)\n",
        "      losses[k] = loss.item()\n",
        "    out[split] = losses.mean() #calculate the average loss\n",
        "  model.train()\n",
        "  return out"
      ],
      "metadata": {
        "id": "WxgiCTuRoBym"
      },
      "execution_count": null,
      "outputs": []
    },
    {
      "cell_type": "code",
      "source": [
        "class BigramLanguageModel(nn.Module):\n",
        "  def __init__(self, vocab_size):\n",
        "    super().__init__()\n",
        "    self.token_embedding_table = nn.Embedding(vocab_size, vocab_size) #map tokens to vectors\n",
        "\n",
        "  #the forward pass\n",
        "  def forward(self, index, targets=None):\n",
        "    logits = self.token_embedding_table(index) #pass the index through the embedding layer to map the index to a vector\n",
        "\n",
        "    if targets is None:\n",
        "      loss = None\n",
        "    else:\n",
        "      B, T, C = logits.shape  #B batch size, T seq length, C vocabulary size\n",
        "      logits = logits.view(B*T, C)  #reshape logits, to compute loss\n",
        "      targets = targets.view(B*T)\n",
        "      loss = F.cross_entropy(logits, targets)\n",
        "\n",
        "    return logits, loss\n",
        "\n",
        "\n",
        "  def generate(self, index, max_new_tokens):\n",
        "    for _ in range(max_new_tokens): #index is (B, T)\n",
        "      logits, loss = self.forward(index)  #prediction\n",
        "      logits = logits[:, -1, :] #focus on the last time step\n",
        "      probs = F.softmax(logits, dim=-1) #apply softmax to get probabilities\n",
        "      index_next = torch.multinomial(probs, num_samples=1)  #sampling\n",
        "      index = torch.cat((index, index_next), dim=1) #append sample (B, T+1)\n",
        "    return index\n",
        "\n",
        "\n",
        "model = BigramLanguageModel(vocab_size)\n",
        "m = model.to(device)\n",
        "\n",
        "context = torch.zeros((1,1), dtype=torch.long , device=device) #torch.long : int 64\n",
        "generated_chars = decode(m.generate(context, max_new_tokens=500)[0].tolist())\n",
        "print(generated_chars)"
      ],
      "metadata": {
        "colab": {
          "base_uri": "https://localhost:8080/"
        },
        "id": "DMwrVqzWHrVx",
        "outputId": "d9d5d0e3-b28e-4032-dd2e-eab0760b74f5"
      },
      "execution_count": null,
      "outputs": [
        {
          "output_type": "stream",
          "name": "stdout",
          "text": [
            "\n",
            "x_wcXzw!(Deid*.T(DqHydqa_b2l8[Mi9TJzJFkgyAFGwl;SVV?﻿uD1wxUy\"7mDmR6xc]bTp]1mvxB(kkOiNY_4.9rZl:Q﻿2[st6jFsUjWsXQqzZXnR0vejvGw!EA15]jvJ2jD8.D9c]Cv6 t\n",
            "*Z:x\n",
            "0cZPB4b G?f-1 tu)]ztZjDy2Jnz\"ep;H'my?2LC_wDTdD9VuzuN0h8JQzNIS﻿V_T,H9l?bTgHG?T\"Bt3*tu4.g\n",
            "4J5l)e]u?I7gYQe,dLL8L5X2nOi\"AN,fQ﻿HmRa6nb*]!cv3D_yW\n",
            ";H,qrZP&gsXPF*]kddrV]Ow4FDt_15Nh'm.9yK]Srgm.﻿Lrgma*7 'yOQ]'VQG4YHtR['f\"6Nzz&2lS:Gt3,V]HigH﻿bp'11u-rS[HjaK)rC4D9TQ\".b96t_uCAfa_E z-R0VY0Gm;zLE3j3:QvqCAEG*LZTw)﻿9﻿52 jxhwz6PNOrkwdyZ*BbaIL8J5qM167RNohqaHf]dP mPxi\n"
          ]
        }
      ]
    },
    {
      "cell_type": "code",
      "source": [
        "#Optimizer\n",
        "optimizer = torch.optim.AdamW(model.parameters(), lr=learning_rate)\n",
        "\n",
        "for i in range(max_iters):\n",
        "  if i % eval_iters == 0:\n",
        "    losses = estimate_loss() #evaluate the loss on both training and validation set\n",
        "    print(f\"step {i}, train loss {losses['train']}, validation loss: {losses['val']}\")\n",
        "\n",
        "  xb, yb = get_batch('train') #get a batch of training data\n",
        "\n",
        "  logits, loss = model.forward(xb, yb)\n",
        "  optimizer.zero_grad(set_to_none=True) #reset the gradients\n",
        "  loss.backward() #calculate the gradients\n",
        "  optimizer.step() #update parameters\n",
        "print(loss.item())"
      ],
      "metadata": {
        "id": "1AyueVVwYshe",
        "colab": {
          "base_uri": "https://localhost:8080/"
        },
        "outputId": "6557fc1c-5f5d-4773-f218-3560f086c580"
      },
      "execution_count": null,
      "outputs": [
        {
          "output_type": "stream",
          "name": "stdout",
          "text": [
            "step 0, train loss 3.4473421573638916, validation loss: 3.453442096710205\n",
            "step 250, train loss 3.4152681827545166, validation loss: 3.428668737411499\n",
            "step 500, train loss 3.36126971244812, validation loss: 3.422299861907959\n",
            "step 750, train loss 3.3270020484924316, validation loss: 3.346626043319702\n",
            "3.6360726356506348\n"
          ]
        }
      ]
    },
    {
      "cell_type": "code",
      "source": [
        "#sample process\n",
        "x = trian_set[:block_size] #input\n",
        "y = trian_set[1:block_size+1] #target\n",
        "\n",
        " #it just knows current char\n",
        "for i in range(block_size):\n",
        "  context = x[: i+1]\n",
        "  target = y[i]\n",
        "  print('when input is', context, 'target is', target)"
      ],
      "metadata": {
        "colab": {
          "base_uri": "https://localhost:8080/"
        },
        "id": "M6g2Qo1uCaSW",
        "outputId": "710f19e6-5051-4725-ab4c-c935bf6942b8"
      },
      "execution_count": null,
      "outputs": [
        {
          "output_type": "stream",
          "name": "stdout",
          "text": [
            "when input is tensor([80]) target is tensor(1)\n",
            "when input is tensor([80,  1]) target is tensor(1)\n",
            "when input is tensor([80,  1,  1]) target is tensor(28)\n",
            "when input is tensor([80,  1,  1, 28]) target is tensor(39)\n",
            "when input is tensor([80,  1,  1, 28, 39]) target is tensor(42)\n",
            "when input is tensor([80,  1,  1, 28, 39, 42]) target is tensor(39)\n",
            "when input is tensor([80,  1,  1, 28, 39, 42, 39]) target is tensor(44)\n",
            "when input is tensor([80,  1,  1, 28, 39, 42, 39, 44]) target is tensor(32)\n"
          ]
        }
      ]
    },
    {
      "cell_type": "code",
      "source": [
        "#generate texe\n",
        "context = torch.zeros((1,1), dtype=torch.long , device=device)\n",
        "generated_chars = decode(m.generate(context, max_new_tokens=500)[0].tolist())\n",
        "print(generated_chars)"
      ],
      "metadata": {
        "colab": {
          "base_uri": "https://localhost:8080/"
        },
        "id": "RHpFqy2yk4Qt",
        "outputId": "17c2f558-9025-4da6-8561-4803e274a15c"
      },
      "execution_count": null,
      "outputs": [
        {
          "output_type": "stream",
          "name": "stdout",
          "text": [
            "\n",
            "N&RHjayjYUa!CGep!)l54A;L!jtjY*XQWlr1,M0(JVR&KevO0_zD:]z﻿8wBY_F8'-xCWfWdXZm:6xkhCsJVafY95T4﻿c0UfkNfeO0nFuZPg.MMH2yM&sFD(mLki:\n",
            "NI3uN)00q,.)y;dl﻿P:]zg;?8kM﻿)w:eydOa;g6,NE﻿4q?wNE86\"IBoMK4&'-[]ULxRHs﻿rP;nd!3kj2G7JX*h*HT54R-&YV?﻿wtGR]2TP2q?RSNjWK('mV(z['a!VXMHFR1lmtANL!CDPheNDM!f1sFx.)\"JUT4CWaAg514ypd(Wlmy aq*S:1s7'!J6Cky73Pe3my!HbJ1s,.)GE6dqp!jAFzDg50bkGMBlx])0R2 v:0y'mIPM[4﻿g7]VM0RG8IEP:]PVgCKp-I\n",
            "fz)Wlx7J15&RWa;F\n",
            "&\"c'MhPn!';i9(noHlw\n",
            "Zugwe80WCyOzjALVXD!\n",
            "2 o'm4]B]RiUgwRr-SP-K_VR]1b;\n",
            ";miCOm1Lw7slq9\"0P1\n"
          ]
        }
      ]
    }
  ]
}